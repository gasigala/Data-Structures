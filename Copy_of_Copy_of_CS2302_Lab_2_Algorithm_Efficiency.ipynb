{
  "nbformat": 4,
  "nbformat_minor": 0,
  "metadata": {
    "colab": {
      "name": "Copy of Copy of CS2302 - Lab 2 - Algorithm Efficiency",
      "provenance": [],
      "collapsed_sections": [],
      "include_colab_link": true
    },
    "kernelspec": {
      "name": "python3",
      "display_name": "Python 3"
    }
  },
  "cells": [
    {
      "cell_type": "markdown",
      "metadata": {
        "id": "view-in-github",
        "colab_type": "text"
      },
      "source": [
        "<a href=\"https://colab.research.google.com/github/gasigala/Data-Structures/blob/master/Copy_of_Copy_of_CS2302_Lab_2_Algorithm_Efficiency.ipynb\" target=\"_parent\"><img src=\"https://colab.research.google.com/assets/colab-badge.svg\" alt=\"Open In Colab\"/></a>"
      ]
    },
    {
      "cell_type": "markdown",
      "metadata": {
        "colab_type": "text",
        "id": "MKsRDH5ZUdfasdv"
      },
      "source": [
        "\n",
        "\n",
        "# CS 2302 - Lab 2 - Algorithm Efficiency"
      ]
    },
    {
      "cell_type": "markdown",
      "metadata": {
        "id": "RPokSITB2Nku",
        "colab_type": "text"
      },
      "source": [
        "## **Before you start**\n",
        "\n",
        "Make a copy of this Colab by clicking on File > Save a Copy in Drive\n",
        "\n",
        "Name:  \n",
        "\n",
        "Student ID:"
      ]
    },
    {
      "cell_type": "markdown",
      "metadata": {
        "colab_type": "text",
        "id": "overview"
      },
      "source": [
        "## Overview\n",
        "\n",
        "As stated in class, we can measure the performance of algorithms by analyzing their space and time complexities. In this lab, you will 1) write and analyze algorithms with different time and space complexities, and 2) learn some key problem solving concepts that will prepare you to write algorithms that perform well. \n",
        "\n"
      ]
    },
    {
      "cell_type": "markdown",
      "metadata": {
        "id": "6gKL1mrkyLux",
        "colab_type": "text"
      },
      "source": [
        "### Grading\n",
        "As stated in the syllabus, your lab consists of two parts: the source code  and the report. This colab counts as your source code submission only. However, for your report submission, you  are more than welcome to extend your colab to include what is required for the report. Alternatively, you can use any other text editor to write your lab report (Google Docs, Word, etc.). I personally recommend to stick to Google Colab as you can write code to draw the required plots, which makes the whole process simpler. \n",
        "\n",
        "Each subsection in this colab is marked with point values, totaling 100 points.\n"
      ]
    },
    {
      "cell_type": "markdown",
      "metadata": {
        "id": "cBO-Xrldpe62",
        "colab_type": "text"
      },
      "source": [
        "## Problem 1 - Passwords\n",
        "\n",
        "Context: In 2015, [Mark Burnett released 10 million passwords](https://xato.net/today-i-am-releasing-ten-million-passwords-b6278bbe7495) people use to access online accounts. Security researchers use data sets like this one all the time to better understand user behavior and develop measures to improve password security. Let's go ahead and use this data set to find the *k* most used passwords. "
      ]
    },
    {
      "cell_type": "markdown",
      "metadata": {
        "id": "S-EOHG9ExVRM",
        "colab_type": "text"
      },
      "source": [
        "### Downloading and Reading the data set\n",
        "\n",
        "Download the data set from Mark's [original post](https://xato.net/today-i-am-releasing-ten-million-passwords-b6278bbe7495) (search for \"The Download Link\" to easily find the Mega link).  \n",
        "\n",
        "Upload the zip file (10-million-combos.zip) to this Colab by running the following code cell. "
      ]
    },
    {
      "cell_type": "code",
      "metadata": {
        "id": "JSUmi3EnyVEQ",
        "colab_type": "code",
        "colab": {
          "resources": {
            "http://localhost:8080/nbextensions/google.colab/files.js": {
              "data": "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",
              "ok": true,
              "headers": [
                [
                  "content-type",
                  "application/javascript"
                ]
              ],
              "status": 200,
              "status_text": ""
            }
          },
          "base_uri": "https://localhost:8080/",
          "height": 582
        },
        "outputId": "78cc858c-0637-4818-e485-840482e38218"
      },
      "source": [
        "# Import the files package\n",
        "from google.colab import files\n",
        "\n",
        "# Get a list of the zip files that have been uploaded into your colab\n",
        "# environment.\n",
        "zip_uploaded = !ls *.zip\n",
        "\n",
        "# If the zip file is not already in the colab enviroment, upload it\n",
        "if ('10-million-combos.zip' not in zip_uploaded):\n",
        "  uploaded = files.upload()\n",
        "\n",
        "# Unzip file\n",
        "import zipfile\n",
        "with zipfile.ZipFile('10-million-combos.zip', 'r') as zip_ref:\n",
        "    zip_ref.extractall()\n",
        "\n",
        "# Read the resulting txt file and print the first 15 lines \n",
        "passwords_file = open(\"10-million-combos.txt\", \"r\", encoding=\"ISO-8859-1\")\n",
        "\n",
        "for i in range(15):\n",
        "  line = passwords_file.readline()\n",
        "  print(line) "
      ],
      "execution_count": null,
      "outputs": [
        {
          "output_type": "display_data",
          "data": {
            "text/html": [
              "\n",
              "     <input type=\"file\" id=\"files-76d6e126-bf8a-4804-ac4f-f9a6b73a41b8\" name=\"files[]\" multiple disabled\n",
              "        style=\"border:none\" />\n",
              "     <output id=\"result-76d6e126-bf8a-4804-ac4f-f9a6b73a41b8\">\n",
              "      Upload widget is only available when the cell has been executed in the\n",
              "      current browser session. Please rerun this cell to enable.\n",
              "      </output>\n",
              "      <script src=\"/nbextensions/google.colab/files.js\"></script> "
            ],
            "text/plain": [
              "<IPython.core.display.HTML object>"
            ]
          },
          "metadata": {
            "tags": []
          }
        },
        {
          "output_type": "stream",
          "text": [
            "Saving 10-million-combos.zip to 10-million-combos.zip\n",
            "0000\t00000000\n",
            "\n",
            "0000\t00001\n",
            "\n",
            "0000\t00001111\n",
            "\n",
            "0000\t000099\n",
            "\n",
            "0000\t00009999\n",
            "\n",
            "0000\t0000w\n",
            "\n",
            "0000\t5927499\n",
            "\n",
            "0000\t634252\n",
            "\n",
            "0000\t6911703\n",
            "\n",
            "0000\t701068\n",
            "\n",
            "0000\t721010\n",
            "\n",
            "_0000\t7227545yfnfif\n",
            "\n",
            "0000\t77777777\n",
            "\n",
            "0000\t8888\n",
            "\n",
            "0000\t99999\n",
            "\n"
          ],
          "name": "stdout"
        }
      ]
    },
    {
      "cell_type": "markdown",
      "metadata": {
        "id": "BX_NE8c58vUB",
        "colab_type": "text"
      },
      "source": [
        "Let's create a class called PasswordTuple to store two pieces of information: a password (string), and the number of times the password appears in the file (integer). Run the following code cell to create the class."
      ]
    },
    {
      "cell_type": "code",
      "metadata": {
        "id": "IBqUVZ419DnC",
        "colab_type": "code",
        "colab": {}
      },
      "source": [
        "class PasswordTuple(object):\n",
        "  def __init__(self, password, count):\n",
        "    self.password = password\n",
        "    self.count = count\n",
        "\n",
        "  def __str__(self):\n",
        "    return \"password: \" + str(self.password) + \", count: \" + str(self.count)\n"
      ],
      "execution_count": null,
      "outputs": []
    },
    {
      "cell_type": "markdown",
      "metadata": {
        "id": "2bjNKS1j-Vqx",
        "colab_type": "text"
      },
      "source": [
        "Let's read all the passwords in the file and create a list of PasswordTuple objects. The idea is to count how many times each password appears in the file. There will be an object per password, and all objects will be stored in a list. "
      ]
    },
    {
      "cell_type": "code",
      "metadata": {
        "id": "UtI5BHOK-xKc",
        "colab_type": "code",
        "colab": {
          "base_uri": "https://localhost:8080/",
          "height": 85
        },
        "outputId": "df326e65-9ed7-40ea-8931-098dfa6ebd77"
      },
      "source": [
        "# Read the passwords txt file \n",
        "passwords_file = open(\"10-million-combos.txt\", \"r\", encoding=\"ISO-8859-1\")\n",
        "\n",
        "# Create list of PasswordTuple objects\n",
        "passwords_lst = []\n",
        "\n",
        "# Dictionary used to map password string to their corresponding objects\n",
        "# in the list. - It's OK if you do not know what a dictionary is. We will go \n",
        "# over this in class -\n",
        "password_to_obj = {}\n",
        "\n",
        "\n",
        "for line in passwords_file:\n",
        "  # The username and password are separated by \\t. \n",
        "  # Extract password only from each line\n",
        "  try:\n",
        "    password = line.split(\"\\t\")[1]  \n",
        "  except:\n",
        "    print(\"Skipping line as it does not contain username and/or password: \", line)\n",
        "    continue  # skip the line\n",
        "\n",
        "  # Remove new line character \\n from the end of the line\n",
        "  password = password.replace(\"\\n\",\"\")\n",
        "\n",
        "  if password in password_to_obj: \n",
        "    password_obj = password_to_obj[password]\n",
        "    password_obj.count += 1\n",
        "  else:\n",
        "    password_obj = PasswordTuple(password=password, count=1)\n",
        "    passwords_lst.append(password_obj)\n",
        "    password_to_obj[password] = password_obj\n",
        "  \n",
        "\n"
      ],
      "execution_count": null,
      "outputs": [
        {
          "output_type": "stream",
          "text": [
            "Skipping line as it does not contain username and/or password:  markcgilberteternity2969\n",
            "\n",
            "Skipping line as it does not contain username and/or password:  sailer1216soccer1216\n",
            "\n"
          ],
          "name": "stdout"
        }
      ]
    },
    {
      "cell_type": "markdown",
      "metadata": {
        "id": "pFy-4WdHHAGN",
        "colab_type": "text"
      },
      "source": [
        "Now we have our processed data stored in *passwords_lst*. Let's print the contents of some of the objects stored in the list."
      ]
    },
    {
      "cell_type": "code",
      "metadata": {
        "id": "JW-4o8svHeXu",
        "colab_type": "code",
        "colab": {
          "base_uri": "https://localhost:8080/",
          "height": 85
        },
        "outputId": "f42b0ead-4533-4609-a537-99ffc07233b4"
      },
      "source": [
        "print(passwords_lst[1111])\n",
        "\n",
        "print(passwords_lst[128012])\n",
        "\n",
        "print(passwords_lst[400345])\n",
        "\n",
        "print(passwords_lst[812564])"
      ],
      "execution_count": null,
      "outputs": [
        {
          "output_type": "stream",
          "text": [
            "password: 2984313, count: 4\n",
            "password: GRose, count: 1\n",
            "password: 89022769259, count: 1\n",
            "password: flatiron, count: 9\n"
          ],
          "name": "stdout"
        }
      ]
    },
    {
      "cell_type": "markdown",
      "metadata": {
        "id": "gWYp0DwjLxc0",
        "colab_type": "text"
      },
      "source": [
        "Let's solve the main problem now. In this part of the lab, you will implement three different solutions to find the *k* most used passwords.\n",
        "\n",
        "1. [10 points] Sort *passwords_lst* using bubble sort, then find the *k* (parameter) most used passwords. If running this algorithm takes a long time, try using a subset of the list. \n",
        "\n",
        "2. [10 points] Sort *passwords_lst* using quicksort, then find the *k* (parameter) most used passwords. If running this algorithm takes a long time, try using a subset of the list. \n",
        "\n",
        "3. [20 points] Implement a modified version of quicksort that makes only one recursive call. Quicksort  splits the input list into two sublists, one containing elements that are smaller than the pivot and one containing elements that are greater or equal to the pivot. Depending on the length of the first sublist, the *k*th element can be an element of the first sublist, the pivot, or a member of the second sublist. Using this observation, this modified version of quicksort makes a single recursive call to the sublist where the *k*th element is."
      ]
    },
    {
      "cell_type": "code",
      "metadata": {
        "id": "COFt8tqnOS6E",
        "colab_type": "code",
        "colab": {}
      },
      "source": [
        "# Solution 1 code goes here\n",
        "def bubble(password_list,k):\n",
        "  data= password_list.copy()\n",
        "  #go through the list as much as we need \n",
        "  for j in range(len(data)-1):\n",
        "   for i in range(len(data)-1):\n",
        "    if data[i].count >data[i+1].count:\n",
        "      #swap\n",
        "      temp= data[i+1]\n",
        "      data[i+1]=data[i]\n",
        "      data[i]= temp\n",
        "    \n",
        "  return find_kth(data,k)\n",
        "\n",
        "def find_kth(data,k): #funtion to print the most used passwords\n",
        "  i=0\n",
        "  for i in range(k):\n",
        "    print(data[-i-k])\n"
      ],
      "execution_count": null,
      "outputs": []
    },
    {
      "cell_type": "code",
      "metadata": {
        "id": "8Q69ZFtOOYfY",
        "colab_type": "code",
        "colab": {}
      },
      "source": [
        "def quicksort_password(nums,i,k):\n",
        "  j=0\n",
        "  if i >= k:\n",
        "    return\n",
        "  j= partition_passwords(nums,i,k)\n",
        "\n",
        "  quicksort_password(nums,i,j)\n",
        "  quicksort_password(nums,j+1, k)\n",
        "\n",
        "\n",
        "def partition_passwords(nums,i,k):\n",
        "  temp=0\n",
        "  done= False\n",
        "  mid=i+(k-i)//2\n",
        "  pivot=nums[mid].count\n",
        "\n",
        "  low=i\n",
        "  high=k\n",
        "  # while the pointers are not the same\n",
        "  while not done:\n",
        "    while nums[low].count <pivot:\n",
        "      low+=1\n",
        "    while nums[high].count >pivot:\n",
        "      high-=1\n",
        "    if low >= high:\n",
        "      done= True\n",
        "    else:\n",
        "      temp= nums[low]\n",
        "      nums[low]=nums[high]\n",
        "      nums[high]=temp\n",
        "      low+=1\n",
        "      high-=1\n",
        "  return high\n",
        "\n",
        "def find_k(data,k):#funtion to find the most used passwords\n",
        "  i=0\n",
        "  for i in range(k):\n",
        "    print(data[-i-k] )"
      ],
      "execution_count": null,
      "outputs": []
    },
    {
      "cell_type": "code",
      "metadata": {
        "id": "3khbdf3JOZhM",
        "colab_type": "code",
        "colab": {}
      },
      "source": [
        "# Solution 3 code goes here\n",
        "def modified_quicksort(nums,i,k,kth_elem):\n",
        "  j=0\n",
        "  if i >= k:\n",
        "    return\n",
        "\n",
        "  j= partition_modified(nums,i,k)\n",
        "\n",
        "  if kth_elem < j:\n",
        "    #if the element were looking for is less then the pivot\n",
        "    modified_quicksort(nums,i,j,kth_elem)\n",
        "  elif kth_elem > j:\n",
        "    #if the element were looking for is greater then the pivot\n",
        "    modified_quicksort(nums,j+1, k,kth_elem)\n",
        "  else:\n",
        "    #we are at the pivot\n",
        "    # kept returning none type for some reason\n",
        "    print(kth_elem,\"th element is \", nums[j])\n",
        "    return nums[j]\n",
        "\n",
        "def partition_modified(nums,i,k):\n",
        "  temp=0\n",
        "  done= False\n",
        "  mid=i+(k-i)//2\n",
        "  pivot=nums[mid].count\n",
        "\n",
        "  low=i\n",
        "  high=k\n",
        "  # i jsut swiched the signs in this loop that way 0 th element is the greatest and n-1 element is the smallest\n",
        "  while not done:\n",
        "    while nums[low].count >pivot:\n",
        "      low+=1\n",
        "    while nums[high].count <pivot:\n",
        "      high-=1\n",
        "    if low >= high:\n",
        "      done= True\n",
        "    else:\n",
        "      temp= nums[low]\n",
        "      nums[low]=nums[high]\n",
        "      nums[high]=temp\n",
        "      low+=1\n",
        "      high-=1\n",
        "  return high\n"
      ],
      "execution_count": null,
      "outputs": []
    },
    {
      "cell_type": "code",
      "metadata": {
        "id": "bUKdaZa1ZR4Q",
        "colab_type": "code",
        "colab": {
          "base_uri": "https://localhost:8080/",
          "height": 221
        },
        "outputId": "a54e291e-13b3-426e-99db-89ed21f88253"
      },
      "source": [
        "a= passwords_lst.copy()[0:100]\n",
        "bubble(a,5)\n",
        "b= passwords_lst.copy()[0:100]\n",
        "#quicksort does not take in paremeter k cause of problems i had with the return type\n",
        "quicksort_password(b,0,len(b)-1)\n",
        "find_k(b,5)\n",
        "c= passwords_lst.copy()[0:100]\n",
        "modified_quicksort(c,0,len(c)-1,2)\n",
        "modified_quicksort(c,0,len(c)-1,0)"
      ],
      "execution_count": null,
      "outputs": [
        {
          "output_type": "stream",
          "text": [
            "password: pussy, count: 2573\n",
            "password: 000000, count: 2339\n",
            "password: 222222, count: 1246\n",
            "password: 11111, count: 1186\n",
            "password: 0000, count: 944\n",
            "password: pussy, count: 2573\n",
            "password: 000000, count: 2339\n",
            "password: 222222, count: 1246\n",
            "password: 11111, count: 1186\n",
            "password: 0000, count: 944\n",
            "2 th element is  password: 111111, count: 5682\n",
            "0 th element is  password: password, count: 19580\n"
          ],
          "name": "stdout"
        }
      ]
    },
    {
      "cell_type": "markdown",
      "metadata": {
        "id": "OaP6F0_-oth_",
        "colab_type": "text"
      },
      "source": [
        "## Problem 2 \n",
        "\n",
        "### Color Sort  [30 points]\n",
        "\n",
        "Sort an array of objects colored red, green, and blue, so that the same color objects are adjacent. Order the colors red, green, blue represented by integers 0, 1, 2 respectively. Write the following solutions to the problem:\n",
        "\n",
        "Solution 1: Just solve the problem. No time or space complexity requirements.\n",
        "\n",
        "Solution 2: Write a linear time algorithm that uses constant space. That is, your time complexity must be O(n), and your space complexity must be O(1).\n",
        "\n",
        "    Examples:\n",
        "    [2, 1, 1, 0, 2, 1] → [0, 1, 1, 1, 2, 2]\n",
        "    [1, 1, 2, 0, 2] → [0, 1, 1, 2, 2]\n",
        "  "
      ]
    },
    {
      "cell_type": "code",
      "metadata": {
        "id": "lu9cWMVUpTUE",
        "colab_type": "code",
        "colab": {}
      },
      "source": [
        "# Solution 1\n",
        "\n",
        "# You are allowed to modify the code in the cell as you please, \n",
        "# just don't change the method signature.\n",
        "\n",
        "#going to use quiksort\n",
        "def partition(nums,i,k):\n",
        "  temp=0\n",
        "  done= False\n",
        "  mid=i+(k-i)//2\n",
        "  pivot=nums[mid]\n",
        "\n",
        "  low=i\n",
        "  high=k\n",
        "\n",
        "  while not done:\n",
        "    while nums[low]<pivot:\n",
        "      low+=1\n",
        "    while nums[high]>pivot:\n",
        "      high-=1\n",
        "    if low >= high:\n",
        "      done= True\n",
        "    else:\n",
        "      temp= nums[low]\n",
        "      nums[low]=nums[high]\n",
        "      nums[high]=temp\n",
        "      low+=1\n",
        "      high-=1\n",
        "  return high\n",
        "\n",
        "def quicksort(nums,i,k):\n",
        "  j=0\n",
        "  if i >= k:\n",
        "    return\n",
        "  j= partition(nums,i,k)\n",
        "\n",
        "  quicksort(nums,i,j)\n",
        "  quicksort(nums,j+1, k)\n",
        "\n",
        "def color_sort_1(nums):\n",
        "  quicksort(nums,0,len(nums)-1)\n",
        "  return nums \n",
        "\n"
      ],
      "execution_count": null,
      "outputs": []
    },
    {
      "cell_type": "code",
      "metadata": {
        "id": "o1kQ9Iw6V2WM",
        "colab_type": "code",
        "colab": {}
      },
      "source": [
        "# Solution 2\n",
        "\n",
        "# You are allowed to modify the code in the cell as you please, \n",
        "# just don't change the method signature.\n",
        "\n",
        "#based off the dutch national flag problem\n",
        "def sort_o_of_n(nums):\n",
        "  low=0\n",
        "  mid=0\n",
        "  high= len(nums)-1\n",
        "  #if mid is 0 swap with low then increment low pointer\n",
        "  while mid <= high :\n",
        "    if nums[mid] == 0:\n",
        "      nums[low], nums[mid] = nums[mid], nums[low]\n",
        "      low+=1\n",
        "  #if mid is 1 increment\n",
        "    elif nums[mid]==1:\n",
        "      mid+=1\n",
        "    elif nums[mid]==2:\n",
        "      nums[mid], nums[high]= nums[high],nums[mid]\n",
        "      high-=1\n",
        "\n",
        "def color_sort_2(nums):\n",
        "  sort_o_of_n(nums)\n",
        "  return nums \n",
        "\n"
      ],
      "execution_count": null,
      "outputs": []
    },
    {
      "cell_type": "markdown",
      "metadata": {
        "id": "ULY67is8phGu",
        "colab_type": "text"
      },
      "source": [
        "Test both solutions by calling them multiple times with different input values and comparing the output produced by your methods to the expected output. For each test, add a short comment explaining why you think that test is appropiate. Do not write an excesive amount of tests; just write the number of tests you think you need and justify your decisions. "
      ]
    },
    {
      "cell_type": "code",
      "metadata": {
        "id": "hHBURBBaprCi",
        "colab_type": "code",
        "colab": {
          "base_uri": "https://localhost:8080/",
          "height": 68
        },
        "outputId": "bb293e75-96ac-465a-abee-eb4d44183734"
      },
      "source": [
        "# Your test cases go here\n",
        "print(color_sort_1([2, 1, 1, 0, 2, 1]))\n",
        "print(color_sort_2([2, 1, 1, 0, 2, 1]))\n",
        "print(color_sort_2([1,0,2,1,2,0,1,2,0,1,2]))\n"
      ],
      "execution_count": null,
      "outputs": [
        {
          "output_type": "stream",
          "text": [
            "[0, 1, 1, 1, 2, 2]\n",
            "[0, 1, 1, 1, 2, 2]\n",
            "[0, 0, 0, 1, 1, 1, 1, 2, 2, 2, 2]\n"
          ],
          "name": "stdout"
        }
      ]
    },
    {
      "cell_type": "markdown",
      "metadata": {
        "id": "wWZBXvtZq3YT",
        "colab_type": "text"
      },
      "source": [
        "## Problem 3\n",
        "\n",
        "### [30 points] Square Sort\n",
        "\n",
        "Given an array sorted in non-decreasing order, return an array containing squares of each number in non-decreasing order. Write the following solutions to the problem:\n",
        "\n",
        "Solution 1: Just solve the problem. No time or space complexity requirements.\n",
        "\n",
        "Solution 2: Write a linear time algorithm that uses constant space. That is, your time complexity must be O(n), and your space complexity must be O(1). To accomplish a space compelxity of O(1), you need to write an in-place solution. That is, modify the input array directly (no need to create a new array). \n",
        "\n",
        "    Examples:\n",
        "    [-3, -2, 0, 4, 6] → [0, 4, 9, 16, 36]\n",
        "    [-5, -3, 2, 3, 10] → [4, 9, 9, 25, 100]\n",
        "  "
      ]
    },
    {
      "cell_type": "code",
      "metadata": {
        "id": "utXoyki7rLjR",
        "colab_type": "code",
        "colab": {}
      },
      "source": [
        "# Solution 1\n",
        "\n",
        "# You are allowed to modify the code in the cell as you please, \n",
        "# just don't change the method signature.\n",
        "#just gonna call quicksort again\n",
        "\n",
        "def square_sort_1(nums):\n",
        "  index=0\n",
        "  for i in nums:\n",
        "    nums[index]= i**2\n",
        "    index+=1\n",
        "    \n",
        "  quicksort(nums,0,len(nums)-1)\n",
        "  return nums \n",
        "\n"
      ],
      "execution_count": null,
      "outputs": []
    },
    {
      "cell_type": "code",
      "metadata": {
        "id": "KDahaIYvZCYw",
        "colab_type": "code",
        "colab": {}
      },
      "source": [
        "# Solution 2\n",
        "\n",
        "# You are allowed to modify the code in the cell as you please, \n",
        "# just don't change the method signature.\n",
        "  \n",
        "def square_sort_2(nums):\n",
        "  if len(nums)<=1:\n",
        "    return nums\n",
        "\n",
        "  j=0\n",
        "  #get # of negative numbers\n",
        "  for j in range(len(nums)):\n",
        "   if nums[j]>=0:\n",
        "     break\n",
        "\n",
        "  for i in range(len(nums)):\n",
        "    nums[i]= nums[i]**2\n",
        "  #put the formally negative section in acending order\n",
        "  reverse(nums,0,j-1)\n",
        "\n",
        "  low=0\n",
        "  pivot=j\n",
        "  #swap low and pivot and pivot is less \n",
        "  #if low== pivot increment pivot 1 so we can keep comparing\n",
        "  while low < pivot:\n",
        "\n",
        "    if nums[pivot]<nums[low]:\n",
        "        temp= nums[low]\n",
        "        nums[low]=nums[pivot]\n",
        "        nums[pivot]=temp\n",
        "    low+=1\n",
        "\n",
        "    if low == pivot and pivot != len(nums)-1:\n",
        "        pivot+=1\n",
        "      \n",
        "  return nums\n",
        "\n",
        "\n",
        "def reverse(seq, start, stop):\n",
        "    size = stop + start\n",
        "    for i in range(start, (size + 1) // 2 ):\n",
        "        j = size - i\n",
        "        seq[i], seq[j] = seq[j], seq[i]\n",
        "\n"
      ],
      "execution_count": null,
      "outputs": []
    },
    {
      "cell_type": "markdown",
      "metadata": {
        "id": "o8vjb3virVNG",
        "colab_type": "text"
      },
      "source": [
        "Test both solutions by calling them multiple times with different input values and comparing the output produced by your methods to the expected output. For each test, add a short comment explaining why you think that test is appropiate. Do not write an excesive amount of tests; just write the number of tests you think you need and justify your decisions. "
      ]
    },
    {
      "cell_type": "code",
      "metadata": {
        "id": "Y95SWdKPrWek",
        "colab_type": "code",
        "colab": {
          "base_uri": "https://localhost:8080/",
          "height": 85
        },
        "outputId": "f6eaaaee-3a2a-4132-81e0-19eed1c74ae8"
      },
      "source": [
        "# Your test cases go here\n",
        "print(square_sort_1([-5,1,5,6,8]))\n",
        "print(square_sort_2([-5,1,5,6,8]))\n",
        "print(square_sort_2([-6,-3,-1,2,4,5]))\n",
        "print(square_sort_2([-2,1]))"
      ],
      "execution_count": null,
      "outputs": [
        {
          "output_type": "stream",
          "text": [
            "[1, 25, 25, 36, 64]\n",
            "[1, 25, 25, 36, 64]\n",
            "[1, 4, 9, 16, 25, 36]\n",
            "[1, 4]\n"
          ],
          "name": "stdout"
        }
      ]
    },
    {
      "cell_type": "markdown",
      "metadata": {
        "id": "d4jg1xSo3DfA",
        "colab_type": "text"
      },
      "source": [
        "## How to Submit This Lab\n",
        "\n",
        "1. File > Download .ipynb\n",
        "2. Go to Blackboard, find the lab submission page, and upload the .ipynb file you just downloaded."
      ]
    },
    {
      "cell_type": "markdown",
      "metadata": {
        "id": "ZxS_1odod-fo",
        "colab_type": "text"
      },
      "source": [
        "## Grading Rubric\n",
        "\n",
        "|     Criteria    \t|     Proficient    \t|     Satisfactory    \t|     Unsatisfactory    \t|\n",
        "|-\t|-\t|-\t|-\t|\n",
        "|     Correctness    \t|     The code compiles, runs, and solves the problem.                \t|     The code compiles, runs, but does not solve the problem (partial implementation).    \t|     The code does not compile/run, or little progress was made.          \t|\n",
        "|     Space and Time </br> complexities    \t|     Appropriate for the problem.    \t|     Can be greatly improved.    \t|     Space and time complexity not analyzed     \t|\n",
        "|     Problem Decomposition    \t|     Operations are broken down into loosely coupled, highly cohesive   methods    \t|     Operations are broken down into methods, but they are not loosely   coupled/highly cohesive    \t|     Most of the logic is inside a couple of big methods          \t|\n",
        "|     Style    \t|     Variables and methods have meaningful/appropriate names     \t|     Only a subset of the variables and methods have   meaningful/appropriate names     \t|     Few or none of the variables and methods have meaningful/appropriate   names     \t|\n",
        "|     Robustness    \t|     Program handles erroneous or unexpected input gracefully    \t|     Program handles some erroneous or unexpected input gracefully    \t|     Program does not handle erroneous or unexpected input gracefully    \t|\n",
        "|     Documentation    \t|     Non-obvious code segments are well documented    \t|     Some non-obvious code segments are documented    \t|     Few or none non-obvious segments are documented    \t|\n",
        "|     Report     \t|     Covers all required material in a concise and clear way with proper   grammar and spelling.    \t|     Covers a subset of the required material in a concise and clear way   with proper grammar and spelling.    \t|     Does not cover enough material and/or the material is not presented   in a concise and clear way with proper grammar and spelling.    \t|"
      ]
    }
  ]
}